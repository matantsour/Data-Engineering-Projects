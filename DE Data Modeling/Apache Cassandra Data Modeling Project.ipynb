{
 "cells": [
  {
   "cell_type": "markdown",
   "metadata": {},
   "source": [
    "# Part I. ETL Pipeline for Pre-Processing the Files"
   ]
  },
  {
   "cell_type": "markdown",
   "metadata": {},
   "source": [
    ""
   ]
  },
  {
   "cell_type": "markdown",
   "metadata": {},
   "source": [
    "#### Import Python packages "
   ]
  },
  {
   "cell_type": "code",
   "execution_count": 1,
   "metadata": {},
   "outputs": [],
   "source": [
    "import pandas as pd\n",
    "import cassandra\n",
    "import re\n",
    "import os\n",
    "import glob\n",
    "import numpy as np\n",
    "import json\n",
    "import csv"
   ]
  },
  {
   "cell_type": "markdown",
   "metadata": {},
   "source": [
    "#### Creating list of filepaths to process original event csv data files"
   ]
  },
  {
   "cell_type": "code",
   "execution_count": 2,
   "metadata": {},
   "outputs": [],
   "source": [
    "# Getting the current folder and subfolder event data\n",
    "filepath = os.getcwd() + '/event_data'\n",
    "\n",
    "# Creating a for loop to create a list of files and collect each filepath\n",
    "for root, dirs, files in os.walk(filepath):\n",
    "    # join the file path and roots with the subdirectories using glob\n",
    "    file_path_list = glob.glob(os.path.join(root,'*'))\n",
    "    file_path_list.sort()"
   ]
  },
  {
   "cell_type": "markdown",
   "metadata": {},
   "source": [
    "#### Processing the files to create the data file csv that will be used for Apache Casssandra tables"
   ]
  },
  {
   "cell_type": "code",
   "execution_count": 3,
   "metadata": {},
   "outputs": [],
   "source": [
    "# initiating an empty list of rows that will be generated from each file\n",
    "full_data_rows_list = [] \n",
    "    \n",
    "# for every filepath in the file path list \n",
    "for f in file_path_list:\n",
    "\n",
    "# reading csv file \n",
    "    with open(f, 'r', encoding = 'utf8', newline='') as csvfile: \n",
    "        # creating a csv reader object \n",
    "        csvreader = csv.reader(csvfile) \n",
    "        next(csvreader)\n",
    "        \n",
    " # extracting each data row one by one and append it        \n",
    "        for line in csvreader:\n",
    "            #print(line)\n",
    "            full_data_rows_list.append(line) \n",
    "            "
   ]
  },
  {
   "cell_type": "code",
   "execution_count": 4,
   "metadata": {},
   "outputs": [],
   "source": [
    "#configuering a gialect for the csv data\n",
    "csv.register_dialect('myDialect', quoting=csv.QUOTE_ALL, skipinitialspace=True)\n",
    "\n",
    "with open('event_datafile_new.csv', 'w', encoding = 'utf8', newline='') as f:\n",
    "    writer = csv.writer(f, dialect='myDialect')\n",
    "    writer.writerow(['artist','firstName','gender','itemInSession','lastName','length',\\\n",
    "                'level','location','sessionId','song','userId'])\n",
    "    for row in full_data_rows_list: #pick conditions to filter upon\n",
    "        if (row[0] == ''): \n",
    "            continue\n",
    "        #pick columns you need to insert into the data models, those fields will be inserted into tables\n",
    "        writer.writerow((row[0], row[2], row[3], row[4], row[5], row[6], row[7], row[8], row[12], row[13], row[16]))\n"
   ]
  },
  {
   "cell_type": "code",
   "execution_count": 5,
   "metadata": {},
   "outputs": [
    {
     "name": "stdout",
     "output_type": "stream",
     "text": [
      "6821\n"
     ]
    }
   ],
   "source": [
    "# checking the number of rows in your csv file\n",
    "with open('event_datafile_new.csv', 'r', encoding = 'utf8') as f:\n",
    "    print(sum(1 for line in f))"
   ]
  },
  {
   "cell_type": "code",
   "execution_count": 6,
   "metadata": {},
   "outputs": [],
   "source": [
    "#reading the new file - file to input to db\n",
    "full_data_rows_list_new = []\n",
    "with open('event_datafile_new.csv', 'r', encoding = 'utf8') as f:\n",
    "    csvreader = csv.reader(f) \n",
    "    next(csvreader)\n",
    "\n",
    "    for line in csvreader:\n",
    "        full_data_rows_list_new.append(line) "
   ]
  },
  {
   "cell_type": "markdown",
   "metadata": {},
   "source": [
    "# Part II. Complete the Apache Cassandra coding portion of your project. \n",
    "\n",
    "## The CSV file titled <font color=red>event_datafile_new.csv</font> is ready to work with and located within the Workspace directory.  The event_datafile_new.csv contains the following columns: \n",
    "- artist \n",
    "- firstName of user\n",
    "- gender of user\n",
    "- item number in session\n",
    "- last name of user\n",
    "- length of the song\n",
    "- level (paid or free song)\n",
    "- location of the user\n",
    "- sessionId\n",
    "- song title\n",
    "- userId\n",
    "\n",
    "The image below is a screenshot of how the denormalized data appears in the <font color=red>**event_datafile_new.csv**</font> after the code above is run:<br>\n",
    "\n",
    "<img src=\"images/image_event_datafile_new.jpg\">"
   ]
  },
  {
   "cell_type": "markdown",
   "metadata": {},
   "source": [
    "#### Creating a Cluster"
   ]
  },
  {
   "cell_type": "code",
   "execution_count": 7,
   "metadata": {},
   "outputs": [],
   "source": [
    "from cassandra.cluster import Cluster\n",
    "cluster = Cluster()\n",
    "session = cluster.connect()"
   ]
  },
  {
   "cell_type": "markdown",
   "metadata": {},
   "source": [
    "#### Create Keyspace"
   ]
  },
  {
   "cell_type": "code",
   "execution_count": 8,
   "metadata": {},
   "outputs": [],
   "source": [
    "try:\n",
    "    session.execute(\"\"\"\n",
    "    CREATE KEYSPACE IF NOT EXISTS udacity \n",
    "    WITH REPLICATION = \n",
    "    { 'class' : 'SimpleStrategy', 'replication_factor' : 1 }\"\"\"\n",
    ")\n",
    "\n",
    "except Exception as e:\n",
    "    print(e)"
   ]
  },
  {
   "cell_type": "markdown",
   "metadata": {},
   "source": [
    "#### Set Keyspace"
   ]
  },
  {
   "cell_type": "code",
   "execution_count": 9,
   "metadata": {},
   "outputs": [],
   "source": [
    "try:\n",
    "    session.set_keyspace('udacity')\n",
    "except Exception as e:\n",
    "    print(e)"
   ]
  },
  {
   "cell_type": "markdown",
   "metadata": {},
   "source": [
    "### With Apache Cassandra you model the database tables on the queries you want to run. <br> Now we need to create tables to run the following queries. "
   ]
  },
  {
   "cell_type": "markdown",
   "metadata": {},
   "source": [
    "# We want to be able to answer 3 questions, for which we'll need to get the following data:\n",
    "### 1. Give me the artist, song title and song's length in the music app history that was heard during  sessionId = 338, and itemInSession  = 4\n",
    "### 2. Give me only the following: name of artist, song (sorted by itemInSession) and user (first and last name) for userid = 10, sessionid = 182\n",
    "### 3. Give me every user name (first and last) in my music app history who listened to the song 'All Hands Against His Own'\n",
    "\n",
    "# For this purpose, we'll create 3 tables (each table is needed to answer each presented question and each table will be modeled accordingly):"
   ]
  },
  {
   "cell_type": "markdown",
   "metadata": {},
   "source": [
    "### Table 1 - sessions_items <br>  Table 2 - users_sessions_items <br> Table 3 - songs"
   ]
  },
  {
   "cell_type": "markdown",
   "metadata": {},
   "source": [
    "### In order to answer Q1 - <br> we'll create a table for which the key is composed of 2 fields: sessionId and itemInSession. <br > I chose this key because for Q1, the data needs to be filtered by sessoinId and itemInSession and in Apache Cassandra, we model our tables as per the queries we intend to run.<br>DataTypes for each field will be selected appropriately."
   ]
  },
  {
   "cell_type": "code",
   "execution_count": 10,
   "metadata": {},
   "outputs": [],
   "source": [
    "#Table 1 - key (sessionId,itemInSession)\n",
    "query = \"DROP TABLE IF EXISTS sessions_items \"\n",
    "try:\n",
    "    session.execute(query)\n",
    "except Exception as e:\n",
    "    print(e)\n",
    "    \n",
    "query = \"CREATE TABLE IF NOT EXISTS sessions_items \"\n",
    "query = query + \"(sessionId int,itemInSession int, artist text, song text, length float, PRIMARY KEY (sessionId, itemInSession) )\"\n",
    "try:\n",
    "    session.execute(query)\n",
    "except Exception as e:\n",
    "    print(e)"
   ]
  },
  {
   "cell_type": "markdown",
   "metadata": {},
   "source": [
    "### In order to answer Q2 - <br> we'll create a table with a composite partition key: <br> the userId, sessionId will serve as the partition key (we filter for Q2 based of those columns) and itemInSession will serve as the clustering column due to the fact the results need to be sorted as per this field's values. <br >DataTypes for each field will be selected appropriately."
   ]
  },
  {
   "cell_type": "code",
   "execution_count": 11,
   "metadata": {},
   "outputs": [],
   "source": [
    "#Table 2 - key (userId,sesionId)\n",
    "query = \"DROP TABLE IF EXISTS users_sessions_items \"\n",
    "try:\n",
    "    session.execute(query)\n",
    "except Exception as e:\n",
    "    print(e)\n",
    "    \n",
    "query = \"CREATE TABLE IF NOT EXISTS users_sessions_items \"\n",
    "query = query + \"(userId int,sessionId int,itemInSession int, artist text, song text, firstName text,lastName text, PRIMARY KEY ( (userId, sessionId), itemInSession) )\"\n",
    "try:\n",
    "    session.execute(query)\n",
    "except Exception as e:\n",
    "    print(e)"
   ]
  },
  {
   "cell_type": "markdown",
   "metadata": {},
   "source": [
    "### In order to answer Q3 - <br> we'll create a table for which the key is (song,userId). <br> This is chosen as the PK due to the fact that in Q3 we are requested to filter based on those columns. in Apache Cassandra we model the tables after the queries that fit the business needs.<br >DataTypes for each field will be selected appropriately."
   ]
  },
  {
   "cell_type": "code",
   "execution_count": 12,
   "metadata": {},
   "outputs": [],
   "source": [
    "#Table 3 -song\n",
    "query = \"DROP TABLE IF EXISTS songs \"\n",
    "try:\n",
    "    session.execute(query)\n",
    "except Exception as e:\n",
    "    print(e)\n",
    "    \n",
    "query = \"CREATE TABLE IF NOT EXISTS songs \"\n",
    "query = query + \"(song text, userId int, firstName text,lastName text, PRIMARY KEY (song,userId) )\"\n",
    "try:\n",
    "    session.execute(query)\n",
    "except Exception as e:\n",
    "    print(e)"
   ]
  },
  {
   "cell_type": "markdown",
   "metadata": {},
   "source": [
    "### Now that we have created our tables, we would like to insert actual data into those tables. <br> We will accomplish that by going over each row of the file (once) and excecute individual insert statment for each one of the three table created above."
   ]
  },
  {
   "cell_type": "code",
   "execution_count": 13,
   "metadata": {
    "scrolled": false
   },
   "outputs": [],
   "source": [
    "file = 'event_datafile_new.csv'\n",
    "\n",
    "with open(file, encoding = 'utf8') as f:\n",
    "    csvreader = csv.reader(f)\n",
    "    next(csvreader) # skip header\n",
    "    for line in csvreader:\n",
    "        artist = line[0]\n",
    "        firstName = line[1]\n",
    "        itemInSession = int(line[3])\n",
    "        lastName = line[4]\n",
    "        length = float(line[5])\n",
    "        sessionId = int(line[8])\n",
    "        song = line[9]\n",
    "        userId = int(line[10])\n",
    "        \n",
    "        #insert to table 1\n",
    "        query1 = \"INSERT INTO sessions_items (sessionId, itemInSession, artist, song,length)\"\n",
    "        query1 = query1 + \" VALUES (%s, %s, %s, %s, %s)\"\n",
    "        session.execute(query1, (sessionId, itemInSession, artist, song,length) )\n",
    "        \n",
    "        query2 = \"INSERT INTO users_sessions_items (userId ,sessionId ,itemInSession, artist, song , firstName ,lastName)\"\n",
    "        query2 = query2 + \" VALUES (%s, %s, %s, %s,%s, %s, %s)\"\n",
    "        session.execute(query2, (userId ,sessionId ,itemInSession, artist, song , firstName ,lastName) )\n",
    "        \n",
    "        query3 = \"INSERT INTO songs (song, userId, firstName, lastName)\"\n",
    "        query3 = query3 + \" VALUES (%s, %s, %s, %s)\"\n",
    "        session.execute(query3, (song, userId, firstName, lastName)) "
   ]
  },
  {
   "cell_type": "markdown",
   "metadata": {},
   "source": [
    "## for each table, we will validate that data was in fact inserted into the table, and then we'll answer the asked question."
   ]
  },
  {
   "cell_type": "markdown",
   "metadata": {},
   "source": [
    "#### We will now check that data was inserted into Table 1 - sessions_items"
   ]
  },
  {
   "cell_type": "code",
   "execution_count": 14,
   "metadata": {
    "scrolled": true
   },
   "outputs": [
    {
     "name": "stdout",
     "output_type": "stream",
     "text": [
      "23 | 0 | Regina Spektor | The Calculation (Album Version) | 191.08526611328125\n",
      "23 | 1 | Octopus Project | All Of The Champs That Ever Lived | 250.95791625976562\n",
      "23 | 2 | Tegan And Sara | So Jealous | 180.06158447265625\n",
      "23 | 3 | Dragonette | Okay Dolores | 153.39056396484375\n",
      "23 | 4 | Lil Wayne / Eminem | Drop The World | 229.58975219726562\n"
     ]
    }
   ],
   "source": [
    "query =\\\n",
    "\"\"\"\n",
    "SELECT\n",
    "sessionId, itemInSession, artist, song,length \n",
    "FROM sessions_items \n",
    "LIMIT 5\n",
    "\"\"\"\n",
    "\n",
    "try:\n",
    "    rows = session.execute(query)\n",
    "except Exception as e:\n",
    "    print(e)\n",
    "    \n",
    "for row in rows:\n",
    "    row_vals = [row.sessionid, row.iteminsession, row.artist, row.song,row.length]\n",
    "    print (\" | \".join([str(x) for x in row_vals]))"
   ]
  },
  {
   "cell_type": "markdown",
   "metadata": {},
   "source": [
    "### The question asked for table 1 - <br> 1. Give me the artist, song title and song's length in the music app history that was heard during  sessionId = 338, and itemInSession  = 4"
   ]
  },
  {
   "cell_type": "code",
   "execution_count": 15,
   "metadata": {},
   "outputs": [
    {
     "name": "stdout",
     "output_type": "stream",
     "text": [
      "Faithless | Music Matters (Mark Knight Dub) | 495.30731201171875\n"
     ]
    }
   ],
   "source": [
    "query =\\\n",
    "\"\"\"\n",
    "SELECT\n",
    "artist,\n",
    "song,\n",
    "length \n",
    "FROM sessions_items \n",
    "WHERE sessionId = 338 and itemInSession = 4\n",
    "\"\"\"\n",
    "\n",
    "try:\n",
    "    rows = session.execute(query)\n",
    "except Exception as e:\n",
    "    print(e)\n",
    "    \n",
    "for row in rows:\n",
    "    row_vals = [row.artist, row.song,row.length]\n",
    "    print (\" | \".join([str(x) for x in row_vals]))"
   ]
  },
  {
   "cell_type": "markdown",
   "metadata": {},
   "source": [
    "#### we can see that for the 338th session, the 4th item was the song \"Music Matters\" by Faithless, and its lengh is 495 seconds."
   ]
  },
  {
   "cell_type": "markdown",
   "metadata": {},
   "source": [
    "#### We will now check that data was inserted into Table 2 - users_sessions_items"
   ]
  },
  {
   "cell_type": "code",
   "execution_count": 16,
   "metadata": {},
   "outputs": [
    {
     "name": "stdout",
     "output_type": "stream",
     "text": [
      "58 | 768 | 0 | System of a Down | Sad Statue | Emily | Benson\n",
      "58 | 768 | 1 | Ghostland Observatory | Stranger Lover | Emily | Benson\n",
      "58 | 768 | 2 | Evergreen Terrace | Zero | Emily | Benson\n",
      "85 | 776 | 2 | Deftones | Head Up (LP Version) | Kinsley | Young\n",
      "85 | 776 | 3 | The Notorious B.I.G. | Playa Hater (Amended Version) | Kinsley | Young\n"
     ]
    }
   ],
   "source": [
    "query =\\\n",
    "\"\"\"\n",
    "SELECT\n",
    "userId,sessionId,itemInSession,artist,song,firstName,LastName\n",
    "FROM users_sessions_items \n",
    "LIMIT 5\n",
    "\"\"\"\n",
    "\n",
    "try:\n",
    "    rows = session.execute(query)\n",
    "except Exception as e:\n",
    "    print(e)\n",
    "    \n",
    "for row in rows:\n",
    "    row_vals = [row.userid, row.sessionid, row.iteminsession, row.artist,row.song,row.firstname,row.lastname]\n",
    "    print (\" | \".join([str(x) for x in row_vals]))"
   ]
  },
  {
   "cell_type": "markdown",
   "metadata": {},
   "source": [
    "### The question asked for table 2 - <br> 2. Give me only the following: name of artist, song (sorted by itemInSession) and user (first and last name) for userid = 10, sessionid = 182"
   ]
  },
  {
   "cell_type": "code",
   "execution_count": 17,
   "metadata": {},
   "outputs": [
    {
     "name": "stdout",
     "output_type": "stream",
     "text": [
      "Down To The Bone | Keep On Keepin' On | Sylvie | Cruz\n",
      "Three Drives | Greece 2000 | Sylvie | Cruz\n",
      "Sebastien Tellier | Kilometer | Sylvie | Cruz\n",
      "Lonnie Gordon | Catch You Baby (Steve Pitron & Max Sanna Radio Edit) | Sylvie | Cruz\n"
     ]
    }
   ],
   "source": [
    "query =\\\n",
    "\"\"\"\n",
    "SELECT\n",
    "artist,song,firstName,LastName\n",
    "FROM users_sessions_items \n",
    "WHERE userId = 10 and sessionId = 182\n",
    "\"\"\"\n",
    "\n",
    "try:\n",
    "    rows = session.execute(query)\n",
    "except Exception as e:\n",
    "    print(e)\n",
    "    \n",
    "for row in rows:\n",
    "    row_vals = [row.artist,row.song,row.firstname,row.lastname]\n",
    "    print (\" | \".join([str(x) for x in row_vals]))"
   ]
  },
  {
   "cell_type": "markdown",
   "metadata": {},
   "source": [
    "#### We can see that for the user: id - 10 , first name Sylvie, last name Cruz, during session 182, she listened to 4 songs. None are of the same artist."
   ]
  },
  {
   "cell_type": "markdown",
   "metadata": {},
   "source": [
    "#### We will now check that data was inserted into Table 3 - songs"
   ]
  },
  {
   "cell_type": "code",
   "execution_count": 18,
   "metadata": {},
   "outputs": [
    {
     "name": "stdout",
     "output_type": "stream",
     "text": [
      "Wonder What's Next | 49 | Chloe | Cuevas\n",
      "In The Dragon's Den | 49 | Chloe | Cuevas\n",
      "Too Tough (1994 Digital Remaster) | 44 | Aleena | Kirby\n",
      "Rio De Janeiro Blue (Album Version) | 49 | Chloe | Cuevas\n",
      "My Place | 15 | Lily | Koch\n"
     ]
    }
   ],
   "source": [
    "query =\\\n",
    "\"\"\"\n",
    "SELECT\n",
    "song,userId,firstName,lastName\n",
    "FROM songs \n",
    "LIMIT 5\n",
    "\"\"\"\n",
    "\n",
    "try:\n",
    "    rows = session.execute(query)\n",
    "except Exception as e:\n",
    "    print(e)\n",
    "    \n",
    "for row in rows:\n",
    "    row_vals = [row.song, row.userid, row.firstname, row.lastname]\n",
    "    print (\" | \".join([str(x) for x in row_vals]))"
   ]
  },
  {
   "cell_type": "markdown",
   "metadata": {},
   "source": [
    "### The question asked for table 2 - <br>Give me every user name (first and last) in my music app history who listened to the song 'All Hands Against His Own'"
   ]
  },
  {
   "cell_type": "code",
   "execution_count": 19,
   "metadata": {},
   "outputs": [
    {
     "name": "stdout",
     "output_type": "stream",
     "text": [
      "Jacqueline | Lynch\n",
      "Tegan | Levine\n",
      "Sara | Johnson\n"
     ]
    }
   ],
   "source": [
    "query =\\\n",
    "\"\"\"\n",
    "SELECT\n",
    "firstName,lastName\n",
    "FROM songs \n",
    "WHERE song  = 'All Hands Against His Own'\n",
    "\"\"\"\n",
    "\n",
    "try:\n",
    "    rows = session.execute(query)\n",
    "except Exception as e:\n",
    "    print(e)\n",
    "    \n",
    "for row in rows:\n",
    "    row_vals = [row.firstname, row.lastname]\n",
    "    print (\" | \".join([str(x) for x in row_vals]))"
   ]
  },
  {
   "cell_type": "markdown",
   "metadata": {},
   "source": [
    "#### We can see that only 3 users have listened to the song \"All Hands Against His Own\"."
   ]
  },
  {
   "cell_type": "markdown",
   "metadata": {},
   "source": [
    "### We will now drop the tables before closing out the sessions"
   ]
  },
  {
   "cell_type": "code",
   "execution_count": 20,
   "metadata": {},
   "outputs": [],
   "source": [
    "query = \"DROP TABLE IF EXISTS sessions_items \"\n",
    "try:\n",
    "    session.execute(query)\n",
    "except Exception as e:\n",
    "    print(e)\n",
    "    \n",
    "query = \"DROP TABLE IF EXISTS users_sessions_items \"\n",
    "try:\n",
    "    session.execute(query)\n",
    "except Exception as e:\n",
    "    print(e)\n",
    "    \n",
    "#Table 3 - key (song)\n",
    "query = \"DROP TABLE IF EXISTS songs \"\n",
    "try:\n",
    "    session.execute(query)\n",
    "except Exception as e:\n",
    "    print(e)"
   ]
  },
  {
   "cell_type": "markdown",
   "metadata": {},
   "source": [
    "### We will now close the session and cluster connection¶"
   ]
  },
  {
   "cell_type": "code",
   "execution_count": 21,
   "metadata": {},
   "outputs": [],
   "source": [
    "session.shutdown()\n",
    "cluster.shutdown()"
   ]
  }
 ],
 "metadata": {
  "kernelspec": {
   "display_name": "Python 3",
   "language": "python",
   "name": "python3"
  },
  "language_info": {
   "codemirror_mode": {
    "name": "ipython",
    "version": 3
   },
   "file_extension": ".py",
   "mimetype": "text/x-python",
   "name": "python",
   "nbconvert_exporter": "python",
   "pygments_lexer": "ipython3",
   "version": "3.6.3"
  }
 },
 "nbformat": 4,
 "nbformat_minor": 2
}
